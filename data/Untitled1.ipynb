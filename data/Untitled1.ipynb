{
 "cells": [
  {
   "cell_type": "code",
   "execution_count": 1,
   "id": "d9bcf00a-bd87-45bf-88eb-5a726885e880",
   "metadata": {},
   "outputs": [],
   "source": [
    "import pandas as pd\n",
    "import numpy as np"
   ]
  },
  {
   "cell_type": "code",
   "execution_count": 3,
   "id": "c87d6d4a-1fc6-4d21-a368-2930ab4ce15a",
   "metadata": {},
   "outputs": [],
   "source": [
    "df2020 = pd.read_csv(\"df2020.csv\")\n",
    "df2021 = pd.read_csv(\"df2021.csv\")\n",
    "df2022 = pd.read_csv(\"df2022.csv\")"
   ]
  },
  {
   "cell_type": "code",
   "execution_count": 4,
   "id": "0fae2ee6-8c0e-4593-b531-cb4db397cee1",
   "metadata": {},
   "outputs": [],
   "source": [
    "df2020.drop(columns = df2020.columns[0], axis = 1, inplace = True)\n",
    "df2021.drop(columns = df2021.columns[0], axis = 1, inplace = True)\n",
    "df2022.drop(columns = df2022.columns[0], axis = 1, inplace = True)"
   ]
  },
  {
   "cell_type": "code",
   "execution_count": 5,
   "id": "552c0436-8990-402a-b0ff-9b5bd8ebfbe0",
   "metadata": {},
   "outputs": [],
   "source": [
    "df2020['Year'] = 2020\n",
    "df2021['Year'] = 2021\n",
    "df2022['Year'] = 2022"
   ]
  },
  {
   "cell_type": "code",
   "execution_count": 6,
   "id": "1b45041a-477f-434f-886a-7395073cce4e",
   "metadata": {},
   "outputs": [],
   "source": [
    "df = pd.concat([df2020,df2021,df2022])"
   ]
  },
  {
   "cell_type": "code",
   "execution_count": 8,
   "id": "32089bcc-2246-4872-821f-df0d4efa7ec4",
   "metadata": {},
   "outputs": [],
   "source": [
    "df.to_csv('combineddata.csv', index = False)"
   ]
  },
  {
   "cell_type": "code",
   "execution_count": 9,
   "id": "29346886-fead-4147-a69c-1424d5505b82",
   "metadata": {},
   "outputs": [
    {
     "data": {
      "text/plain": [
       "Index(['Player', 'Round', 'DraftNumber', 'PreTeam', 'urlsummary', 'PreType',\n",
       "       'GP', 'GS', 'MIN', 'PTS', 'FGM', 'FGA', 'FG%', '3PM', '3PA', '3P%',\n",
       "       'FTM', 'FTA', 'FT%', 'OFF', 'DEF', 'TRB', 'AST', 'STL', 'BLK', 'TOV',\n",
       "       'PF', 'Position', 'Year'],\n",
       "      dtype='object')"
      ]
     },
     "execution_count": 9,
     "metadata": {},
     "output_type": "execute_result"
    }
   ],
   "source": [
    "df.columns"
   ]
  },
  {
   "cell_type": "code",
   "execution_count": 10,
   "id": "73eee785-e64e-4ec9-9bf0-c1b047ce9e48",
   "metadata": {},
   "outputs": [
    {
     "data": {
      "text/html": [
       "<div>\n",
       "<style scoped>\n",
       "    .dataframe tbody tr th:only-of-type {\n",
       "        vertical-align: middle;\n",
       "    }\n",
       "\n",
       "    .dataframe tbody tr th {\n",
       "        vertical-align: top;\n",
       "    }\n",
       "\n",
       "    .dataframe thead th {\n",
       "        text-align: right;\n",
       "    }\n",
       "</style>\n",
       "<table border=\"1\" class=\"dataframe\">\n",
       "  <thead>\n",
       "    <tr style=\"text-align: right;\">\n",
       "      <th></th>\n",
       "      <th>Player</th>\n",
       "      <th>Round</th>\n",
       "      <th>DraftNumber</th>\n",
       "      <th>PreTeam</th>\n",
       "      <th>urlsummary</th>\n",
       "      <th>PreType</th>\n",
       "      <th>GP</th>\n",
       "      <th>GS</th>\n",
       "      <th>MIN</th>\n",
       "      <th>PTS</th>\n",
       "      <th>...</th>\n",
       "      <th>OFF</th>\n",
       "      <th>DEF</th>\n",
       "      <th>TRB</th>\n",
       "      <th>AST</th>\n",
       "      <th>STL</th>\n",
       "      <th>BLK</th>\n",
       "      <th>TOV</th>\n",
       "      <th>PF</th>\n",
       "      <th>Position</th>\n",
       "      <th>Year</th>\n",
       "    </tr>\n",
       "  </thead>\n",
       "  <tbody>\n",
       "    <tr>\n",
       "      <th>0</th>\n",
       "      <td>Anthony Edwards</td>\n",
       "      <td>1</td>\n",
       "      <td>1</td>\n",
       "      <td>Georgia</td>\n",
       "      <td>https://basketball.realgm.com/player/Anthony-E...</td>\n",
       "      <td>College</td>\n",
       "      <td>32.0</td>\n",
       "      <td>31.0</td>\n",
       "      <td>33.0</td>\n",
       "      <td>19.06</td>\n",
       "      <td>...</td>\n",
       "      <td>0.75</td>\n",
       "      <td>4.47</td>\n",
       "      <td>5.22</td>\n",
       "      <td>2.84</td>\n",
       "      <td>1.34</td>\n",
       "      <td>0.56</td>\n",
       "      <td>2.72</td>\n",
       "      <td>2.19</td>\n",
       "      <td>SF</td>\n",
       "      <td>2020</td>\n",
       "    </tr>\n",
       "    <tr>\n",
       "      <th>1</th>\n",
       "      <td>James Wiseman</td>\n",
       "      <td>1</td>\n",
       "      <td>2</td>\n",
       "      <td>Memphis</td>\n",
       "      <td>https://basketball.realgm.com/player/James-Wis...</td>\n",
       "      <td>College</td>\n",
       "      <td>3.0</td>\n",
       "      <td>3.0</td>\n",
       "      <td>23.0</td>\n",
       "      <td>19.67</td>\n",
       "      <td>...</td>\n",
       "      <td>4.33</td>\n",
       "      <td>6.33</td>\n",
       "      <td>10.67</td>\n",
       "      <td>0.33</td>\n",
       "      <td>0.33</td>\n",
       "      <td>3.00</td>\n",
       "      <td>1.00</td>\n",
       "      <td>1.67</td>\n",
       "      <td>C</td>\n",
       "      <td>2020</td>\n",
       "    </tr>\n",
       "    <tr>\n",
       "      <th>2</th>\n",
       "      <td>LaMelo Ball</td>\n",
       "      <td>1</td>\n",
       "      <td>3</td>\n",
       "      <td>Illawarra (Australia)</td>\n",
       "      <td>https://basketball.realgm.com/player/LaMelo-Ba...</td>\n",
       "      <td>Overseas</td>\n",
       "      <td>13.0</td>\n",
       "      <td>13.0</td>\n",
       "      <td>31.3</td>\n",
       "      <td>17.15</td>\n",
       "      <td>...</td>\n",
       "      <td>2.00</td>\n",
       "      <td>5.85</td>\n",
       "      <td>7.85</td>\n",
       "      <td>6.77</td>\n",
       "      <td>1.54</td>\n",
       "      <td>0.15</td>\n",
       "      <td>2.54</td>\n",
       "      <td>2.62</td>\n",
       "      <td>G</td>\n",
       "      <td>2020</td>\n",
       "    </tr>\n",
       "    <tr>\n",
       "      <th>3</th>\n",
       "      <td>Patrick Williams</td>\n",
       "      <td>1</td>\n",
       "      <td>4</td>\n",
       "      <td>Florida State</td>\n",
       "      <td>https://basketball.realgm.com/player/Patrick-W...</td>\n",
       "      <td>College</td>\n",
       "      <td>29.0</td>\n",
       "      <td>0.0</td>\n",
       "      <td>22.5</td>\n",
       "      <td>9.24</td>\n",
       "      <td>...</td>\n",
       "      <td>1.31</td>\n",
       "      <td>2.69</td>\n",
       "      <td>4.00</td>\n",
       "      <td>1.00</td>\n",
       "      <td>1.00</td>\n",
       "      <td>1.03</td>\n",
       "      <td>1.72</td>\n",
       "      <td>1.62</td>\n",
       "      <td>G</td>\n",
       "      <td>2020</td>\n",
       "    </tr>\n",
       "    <tr>\n",
       "      <th>4</th>\n",
       "      <td>Isaac Okoro</td>\n",
       "      <td>1</td>\n",
       "      <td>5</td>\n",
       "      <td>Auburn</td>\n",
       "      <td>https://basketball.realgm.com/player/Isaac-Oko...</td>\n",
       "      <td>College</td>\n",
       "      <td>28.0</td>\n",
       "      <td>28.0</td>\n",
       "      <td>31.5</td>\n",
       "      <td>12.82</td>\n",
       "      <td>...</td>\n",
       "      <td>1.89</td>\n",
       "      <td>2.54</td>\n",
       "      <td>4.43</td>\n",
       "      <td>2.04</td>\n",
       "      <td>0.93</td>\n",
       "      <td>0.89</td>\n",
       "      <td>1.96</td>\n",
       "      <td>2.71</td>\n",
       "      <td>SG</td>\n",
       "      <td>2020</td>\n",
       "    </tr>\n",
       "  </tbody>\n",
       "</table>\n",
       "<p>5 rows × 29 columns</p>\n",
       "</div>"
      ],
      "text/plain": [
       "             Player  Round  DraftNumber                PreTeam  \\\n",
       "0   Anthony Edwards      1            1                Georgia   \n",
       "1     James Wiseman      1            2                Memphis   \n",
       "2       LaMelo Ball      1            3  Illawarra (Australia)   \n",
       "3  Patrick Williams      1            4          Florida State   \n",
       "4       Isaac Okoro      1            5                 Auburn   \n",
       "\n",
       "                                          urlsummary   PreType    GP    GS  \\\n",
       "0  https://basketball.realgm.com/player/Anthony-E...   College  32.0  31.0   \n",
       "1  https://basketball.realgm.com/player/James-Wis...   College   3.0   3.0   \n",
       "2  https://basketball.realgm.com/player/LaMelo-Ba...  Overseas  13.0  13.0   \n",
       "3  https://basketball.realgm.com/player/Patrick-W...   College  29.0   0.0   \n",
       "4  https://basketball.realgm.com/player/Isaac-Oko...   College  28.0  28.0   \n",
       "\n",
       "    MIN    PTS  ...   OFF   DEF    TRB   AST   STL   BLK   TOV    PF  \\\n",
       "0  33.0  19.06  ...  0.75  4.47   5.22  2.84  1.34  0.56  2.72  2.19   \n",
       "1  23.0  19.67  ...  4.33  6.33  10.67  0.33  0.33  3.00  1.00  1.67   \n",
       "2  31.3  17.15  ...  2.00  5.85   7.85  6.77  1.54  0.15  2.54  2.62   \n",
       "3  22.5   9.24  ...  1.31  2.69   4.00  1.00  1.00  1.03  1.72  1.62   \n",
       "4  31.5  12.82  ...  1.89  2.54   4.43  2.04  0.93  0.89  1.96  2.71   \n",
       "\n",
       "   Position  Year  \n",
       "0        SF  2020  \n",
       "1         C  2020  \n",
       "2         G  2020  \n",
       "3         G  2020  \n",
       "4        SG  2020  \n",
       "\n",
       "[5 rows x 29 columns]"
      ]
     },
     "execution_count": 10,
     "metadata": {},
     "output_type": "execute_result"
    }
   ],
   "source": [
    "df.head()"
   ]
  },
  {
   "cell_type": "code",
   "execution_count": 11,
   "id": "37047b47-af1f-4aa6-b596-1f21e60bd421",
   "metadata": {},
   "outputs": [
    {
     "data": {
      "text/plain": [
       "(178, 29)"
      ]
     },
     "execution_count": 11,
     "metadata": {},
     "output_type": "execute_result"
    }
   ],
   "source": [
    "df.shape"
   ]
  },
  {
   "cell_type": "code",
   "execution_count": null,
   "id": "7955150f-75e4-4613-b1d1-be7d6c28e976",
   "metadata": {},
   "outputs": [],
   "source": []
  }
 ],
 "metadata": {
  "kernelspec": {
   "display_name": "Python 3 (ipykernel)",
   "language": "python",
   "name": "python3"
  },
  "language_info": {
   "codemirror_mode": {
    "name": "ipython",
    "version": 3
   },
   "file_extension": ".py",
   "mimetype": "text/x-python",
   "name": "python",
   "nbconvert_exporter": "python",
   "pygments_lexer": "ipython3",
   "version": "3.11.7"
  }
 },
 "nbformat": 4,
 "nbformat_minor": 5
}
